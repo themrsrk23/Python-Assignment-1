{
 "cells": [
  {
   "cell_type": "code",
   "execution_count": 15,
   "metadata": {},
   "outputs": [
    {
     "name": "stdout",
     "output_type": "stream",
     "text": [
      "Enter first value: 9\n",
      "Enter second value: 18\n",
      "Enter Operator: +\n",
      "27\n"
     ]
    }
   ],
   "source": [
    "a = int(input(\"Enter first value: \"))\n",
    "b = int(input(\"Enter second value: \"))\n",
    "operator = (input(\"Enter Operator: \"))\n",
    "\n",
    "if operator == '/':\n",
    "    d = a / b\n",
    "    print (d)\n",
    "elif operator == '*':\n",
    "    d = a*b\n",
    "    print (d)\n",
    "elif operator == '+':\n",
    "    d = a+b\n",
    "    print (d)\n",
    "elif operator == '-':\n",
    "    d = a-b\n",
    "    print (d)\n",
    "elif operator == '**':\n",
    "    d = a**b\n",
    "    print (d)\n",
    "else:\n",
    "    print (\"Enter correct operator\")"
   ]
  },
  {
   "cell_type": "code",
   "execution_count": null,
   "metadata": {},
   "outputs": [],
   "source": []
  },
  {
   "cell_type": "code",
   "execution_count": null,
   "metadata": {},
   "outputs": [],
   "source": []
  }
 ],
 "metadata": {
  "kernelspec": {
   "display_name": "Python 3",
   "language": "python",
   "name": "python3"
  },
  "language_info": {
   "codemirror_mode": {
    "name": "ipython",
    "version": 3
   },
   "file_extension": ".py",
   "mimetype": "text/x-python",
   "name": "python",
   "nbconvert_exporter": "python",
   "pygments_lexer": "ipython3",
   "version": "3.6.7"
  }
 },
 "nbformat": 4,
 "nbformat_minor": 2
}
