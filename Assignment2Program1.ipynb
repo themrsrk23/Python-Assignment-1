{
 "cells": [
  {
   "cell_type": "code",
   "execution_count": 15,
   "metadata": {},
   "outputs": [
    {
     "name": "stdout",
     "output_type": "stream",
     "text": [
      "Enter the marks of English: 50\n",
      "Enter the marks of Maths: 30\n",
      "Enter the marks of Physics: 70\n",
      "Enter the marks of Chemistry: 88\n",
      "Enter the marks of Biology: 76\n",
      "You've got B grade\n"
     ]
    }
   ],
   "source": [
    "a = int(input(\"Enter the marks of English: \"))\n",
    "b = int(input(\"Enter the marks of Maths: \"))\n",
    "c = int(input(\"Enter the marks of Physics: \"))\n",
    "d = int(input(\"Enter the marks of Chemistry: \"))\n",
    "e = int(input(\"Enter the marks of Biology: \"))\n",
    "total = a+b+c+d+e\n",
    "total_marks = 500\n",
    "percentage = (total/total_marks)*100\n",
    "if ( percentage >= 80 and percentage <= 100):\n",
    " print(\"You've got A grade\")\n",
    "elif ( percentage >=60 and percentage <= 79):\n",
    " print(\"You've got B grade\")\n",
    "elif ( percentage >= 50 and percentage <= 69):\n",
    " print(\"You've got C grade\")\n",
    "else:\n",
    " print(\"You are Fail\")\n"
   ]
  },
  {
   "cell_type": "code",
   "execution_count": null,
   "metadata": {},
   "outputs": [],
   "source": []
  }
 ],
 "metadata": {
  "kernelspec": {
   "display_name": "Python 3",
   "language": "python",
   "name": "python3"
  },
  "language_info": {
   "codemirror_mode": {
    "name": "ipython",
    "version": 3
   },
   "file_extension": ".py",
   "mimetype": "text/x-python",
   "name": "python",
   "nbconvert_exporter": "python",
   "pygments_lexer": "ipython3",
   "version": "3.6.7"
  }
 },
 "nbformat": 4,
 "nbformat_minor": 2
}
