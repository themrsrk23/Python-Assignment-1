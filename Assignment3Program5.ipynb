{
 "cells": [
  {
   "cell_type": "code",
   "execution_count": 1,
   "metadata": {},
   "outputs": [
    {
     "name": "stdout",
     "output_type": "stream",
     "text": [
      "duplicate value is found  aaa\n",
      "duplicate value is found  1\n",
      "['hhh', 'aaa', 'abc', 'ccc', 1]\n"
     ]
    }
   ],
   "source": [
    "lst1 = [\"hhh\",\"aaa\", \"abc\",\"aaa\",\"ccc\",1,1]\n",
    "def dup(lst):\n",
    "    lst1dup = []\n",
    "    for val in lst:\n",
    "        if val not in lst1dup:\n",
    "            lst1dup.append(val)\n",
    "        elif val in lst1dup:\n",
    "            print(\"duplicate value is found \",val)\n",
    "    return lst1dup\n",
    "\n",
    "print(dup(lst1))"
   ]
  },
  {
   "cell_type": "code",
   "execution_count": null,
   "metadata": {},
   "outputs": [],
   "source": []
  }
 ],
 "metadata": {
  "kernelspec": {
   "display_name": "Python 3",
   "language": "python",
   "name": "python3"
  },
  "language_info": {
   "codemirror_mode": {
    "name": "ipython",
    "version": 3
   },
   "file_extension": ".py",
   "mimetype": "text/x-python",
   "name": "python",
   "nbconvert_exporter": "python",
   "pygments_lexer": "ipython3",
   "version": "3.6.7"
  }
 },
 "nbformat": 4,
 "nbformat_minor": 2
}
