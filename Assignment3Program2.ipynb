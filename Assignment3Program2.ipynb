{
 "cells": [
  {
   "cell_type": "code",
   "execution_count": 3,
   "metadata": {},
   "outputs": [
    {
     "name": "stdout",
     "output_type": "stream",
     "text": [
      "Numeric value is found = 10 At Index=0\n",
      "Numeric value is found = 8 At Index=5\n"
     ]
    }
   ],
   "source": [
    "a = [10,\"asf\",\"qwe\",\"power\",\"lol\",8]\n",
    "for aa in a:\n",
    "    if type(aa) == int or type(aa) == float:\n",
    "        print(f\"Numeric value is found = {aa} At Index={a.index(aa)}\")"
   ]
  },
  {
   "cell_type": "code",
   "execution_count": null,
   "metadata": {},
   "outputs": [],
   "source": []
  }
 ],
 "metadata": {
  "kernelspec": {
   "display_name": "Python 3",
   "language": "python",
   "name": "python3"
  },
  "language_info": {
   "codemirror_mode": {
    "name": "ipython",
    "version": 3
   },
   "file_extension": ".py",
   "mimetype": "text/x-python",
   "name": "python",
   "nbconvert_exporter": "python",
   "pygments_lexer": "ipython3",
   "version": "3.6.7"
  }
 },
 "nbformat": 4,
 "nbformat_minor": 2
}
