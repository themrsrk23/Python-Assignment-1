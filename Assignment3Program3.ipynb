{
 "cells": [
  {
   "cell_type": "code",
   "execution_count": 4,
   "metadata": {},
   "outputs": [
    {
     "name": "stdout",
     "output_type": "stream",
     "text": [
      "{'Company': ' Toyota', 'Model': 'Revo', ' Colout': 'White'}\n",
      "{'Company': ' Toyota', 'Model': 'Revo', ' Colout': 'White', 'Price': ' 40Lakh'}\n"
     ]
    }
   ],
   "source": [
    "script = {\"Company\" : \" Toyota\",\n",
    "         \"Model\" : \"Revo\",\n",
    "         \" Colout\" : \"White\"}\n",
    "print (script)\n",
    "script.update ({\"Price\": \" 40Lakh\"})\n",
    "print (script)"
   ]
  },
  {
   "cell_type": "code",
   "execution_count": null,
   "metadata": {},
   "outputs": [],
   "source": []
  }
 ],
 "metadata": {
  "kernelspec": {
   "display_name": "Python 3",
   "language": "python",
   "name": "python3"
  },
  "language_info": {
   "codemirror_mode": {
    "name": "ipython",
    "version": 3
   },
   "file_extension": ".py",
   "mimetype": "text/x-python",
   "name": "python",
   "nbconvert_exporter": "python",
   "pygments_lexer": "ipython3",
   "version": "3.6.7"
  }
 },
 "nbformat": 4,
 "nbformat_minor": 2
}
