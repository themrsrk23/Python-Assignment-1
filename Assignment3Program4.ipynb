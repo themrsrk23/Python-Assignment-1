{
 "cells": [
  {
   "cell_type": "code",
   "execution_count": 14,
   "metadata": {},
   "outputs": [
    {
     "name": "stdout",
     "output_type": "stream",
     "text": [
      "sum ::  12\n"
     ]
    }
   ],
   "source": [
    "def sumdic(dic):\n",
    "        sum = 0\n",
    "        for i in dic.values():\n",
    "            sum = sum + i\n",
    "        return sum\n",
    "dictionary = {0:2 , 1:4, 2:6 }\n",
    "\n",
    "print(\"sum :: \",sumdic(dictionary))"
   ]
  },
  {
   "cell_type": "code",
   "execution_count": null,
   "metadata": {},
   "outputs": [],
   "source": []
  }
 ],
 "metadata": {
  "kernelspec": {
   "display_name": "Python 3",
   "language": "python",
   "name": "python3"
  },
  "language_info": {
   "codemirror_mode": {
    "name": "ipython",
    "version": 3
   },
   "file_extension": ".py",
   "mimetype": "text/x-python",
   "name": "python",
   "nbconvert_exporter": "python",
   "pygments_lexer": "ipython3",
   "version": "3.6.7"
  }
 },
 "nbformat": 4,
 "nbformat_minor": 2
}
