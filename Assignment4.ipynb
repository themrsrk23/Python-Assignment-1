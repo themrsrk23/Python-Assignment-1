{
 "cells": [
  {
   "cell_type": "code",
   "execution_count": 3,
   "metadata": {},
   "outputs": [
    {
     "name": "stdout",
     "output_type": "stream",
     "text": [
      "{0: {'first_name': 'Shahrukh', 'last_name': 'Siddiqui', 'age': 23, 'city': 'Khi'}, 1: {'first_name': 'Ahson', 'last_name': 'Shaikh', 'age': 23, 'city': 'Khi', 'Qualification': 'MSC'}}\n",
      "{0: {'first_name': 'Shahrukh', 'last_name': 'Siddiqui', 'age': 23, 'city': 'Khi', 'Qualification': 'BSC'}, 1: {'first_name': 'Ahson', 'last_name': 'Shaikh', 'age': 23, 'city': 'Khi', 'Qualification': 'MSC'}}\n",
      "{0: {'first_name': 'Shahrukh', 'last_name': 'Siddiqui', 'age': 23, 'city': 'Khi', 'Qualification': 'PHD'}, 1: {'first_name': 'Ahson', 'last_name': 'Shaikh', 'age': 23, 'city': 'Khi', 'Qualification': 'MSC'}}\n",
      "{0: {'first_name': 'Shahrukh', 'last_name': 'Siddiqui', 'age': 23, 'city': 'Khi'}, 1: {'first_name': 'Ahson', 'last_name': 'Shaikh', 'age': 23, 'city': 'Khi', 'Qualification': 'MSC'}}\n"
     ]
    }
   ],
   "source": [
    "person = {\n",
    "    0:{\n",
    "    'first_name':'Shahrukh',\n",
    "    'last_name': 'Siddiqui',\n",
    "    'age': 23,\n",
    "    'city': 'Khi'},\n",
    "    1:{\n",
    "    'first_name':'Ahson',\n",
    "    'last_name': 'Shaikh',\n",
    "    'age': 23,\n",
    "    'city': 'Khi',\n",
    "    'Qualification':\"MSC\"},\n",
    "              }\n",
    "print(person)\n",
    "person[0]['Qualification'] = \"BSC\"\n",
    "print(person)\n",
    "person[0]['Qualification'] = \"PHD\"\n",
    "print(person)\n",
    "del person[0]['Qualification']\n",
    "print(person)"
   ]
  },
  {
   "cell_type": "code",
   "execution_count": 4,
   "metadata": {},
   "outputs": [
    {
     "name": "stdout",
     "output_type": "stream",
     "text": [
      "\n",
      "Karachi is in Pakistan.\n",
      "  It has a population of about 10 Million.\n",
      "  The Economical Hub is the Fact of it\n",
      "\n",
      "Peshawar is in Pakistan.\n",
      "  It has a population of about 5 million.\n",
      "  The Beautiful is the Fact of it\n",
      "\n",
      "Islamabad is in Pakistan.\n",
      "  It has a population of about 1 million.\n",
      "  The Capital City Of Pakistan is the Fact of it\n"
     ]
    }
   ],
   "source": [
    "cities = {\n",
    "    \"karachi\":{\"country\":\"Pakistan\",\"Population\":\"10 Million\",\"fact\":\"Economical Hub\"},\n",
    "    \"peshawar\":{\"country\":\"Pakistan\",\"Population\":\"5 million\",'fact':\"Beautiful\"},\n",
    "    \"islamabad\":{\"country\":\"Pakistan\",\"Population\":\"1 million\",\"fact\":\"Capital City Of Pakistan\"}\n",
    "    }\n",
    "\n",
    "for city, city_info in cities.items():\n",
    "    country = city_info['country'].title()\n",
    "    population = city_info['Population']\n",
    "    fact = city_info['fact'].title()\n",
    "\n",
    "    print(\"\\n\" + city.title() + \" is in \" + country + \".\")\n",
    "    print(\"  It has a population of about \" + str(population) + \".\")\n",
    "    print(\"  The \" + fact + \" is the Fact of it\")"
   ]
  },
  {
   "cell_type": "code",
   "execution_count": 5,
   "metadata": {},
   "outputs": [
    {
     "name": "stdout",
     "output_type": "stream",
     "text": [
      "what is your age: 19\n",
      "your ticket is $15\n"
     ]
    }
   ],
   "source": [
    "while True:\n",
    "    age = int(input(\"what is your age: \"))\n",
    "    if age <=3:\n",
    "        print(\"your ticket is free\")\n",
    "        break\n",
    "    if age >3 and age <=12:\n",
    "        print(\"your ticket is $10\")\n",
    "        break\n",
    "    if age > 12:\n",
    "        print(\"your ticket is $15\")\n",
    "        break"
   ]
  },
  {
   "cell_type": "code",
   "execution_count": 6,
   "metadata": {},
   "outputs": [
    {
     "name": "stdout",
     "output_type": "stream",
     "text": [
      "One of my favourite book is :  Alice in Wonderland\n"
     ]
    }
   ],
   "source": [
    "def favorite_book(title):\n",
    "    print(\"One of my favourite book is : \",title)\n",
    "    return None\n",
    "favorite_book('Alice in Wonderland')"
   ]
  },
  {
   "cell_type": "code",
   "execution_count": 7,
   "metadata": {},
   "outputs": [
    {
     "name": "stdout",
     "output_type": "stream",
     "text": [
      "================HINT================\n",
      "try a number between 15 and 20\n",
      "enter your guess: 7\n",
      "try a number graterthan : 7\n",
      "enter your guess: 8\n",
      "try a number graterthan : 8\n",
      "enter your guess: 10\n",
      "try a number graterthan : 10\n"
     ]
    }
   ],
   "source": [
    "import random\n",
    "hidden = random.randint(1,30) \n",
    "def hint(hidden):\n",
    "    print(\"================HINT================\")\n",
    "    if hidden>= 1 and hidden < 5:\n",
    "        print(\"try a number between 1 and 5\")\n",
    "    elif hidden >= 5 and hidden < 10:\n",
    "        print(\"try a number between 5 and 10\")\n",
    "    elif hidden >= 10 and hidden < 15:\n",
    "        print(\"try a number between 10 and 20\")\n",
    "    elif hidden >= 15 and hidden < 20:\n",
    "        print(\"try a number between 15 and 20\")\n",
    "    elif hidden >= 20 and hidden < 25:\n",
    "        print(\"try a number between 20 and 35\")\n",
    "    elif hidden >= 25 and hidden <= 30:\n",
    "        print(\"try a number between 25 and 30\")\n",
    "    return None\n",
    "def userhint(user,hidden):\n",
    "    if hidden > user:\n",
    "        print(\"try a number graterthan : {}\".format(user))\n",
    "    elif hidden < user:\n",
    "        print(\"try a number samller than : {}\".format(user))\n",
    "    return None\n",
    "\n",
    "hint(hidden)\n",
    "for i in range(0,3):\n",
    "    user = int(input(\"enter your guess: \"))\n",
    "    userhint(user,hidden)\n",
    "    if user == hidden:\n",
    "        print(\"your guess is right\")\n",
    "        break"
   ]
  },
  {
   "cell_type": "code",
   "execution_count": null,
   "metadata": {},
   "outputs": [],
   "source": []
  }
 ],
 "metadata": {
  "kernelspec": {
   "display_name": "Python 3",
   "language": "python",
   "name": "python3"
  },
  "language_info": {
   "codemirror_mode": {
    "name": "ipython",
    "version": 3
   },
   "file_extension": ".py",
   "mimetype": "text/x-python",
   "name": "python",
   "nbconvert_exporter": "python",
   "pygments_lexer": "ipython3",
   "version": "3.6.7"
  }
 },
 "nbformat": 4,
 "nbformat_minor": 2
}
